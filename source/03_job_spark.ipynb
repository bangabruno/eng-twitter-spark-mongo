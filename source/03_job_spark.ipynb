{
 "cells": [
  {
   "cell_type": "markdown",
   "metadata": {},
   "source": [
    "## [DEFINITION] Contexto do Spark"
   ]
  },
  {
   "cell_type": "code",
   "execution_count": null,
   "metadata": {},
   "outputs": [],
   "source": [
    "from pyspark import SparkConf, SparkContext\n",
    "from pyspark.streaming import StreamingContext\n",
    "from pyspark.sql import Row,SQLContext\n",
    "import sys\n",
    "import requests\n",
    "\n",
    "# Criando a configuração (Informe um nome para a sua API)\n",
    "conf = SparkConf().setMaster(\"local[2]\").setAppName(\"twitterApp\")\n",
    "\n",
    "# Cria o contexto spark com a configuração acima\n",
    "sc = SparkContext.getOrCreate(conf = conf)\n",
    "\n",
    "#Para evitar muito lixo no log\n",
    "sc.setLogLevel(\"ERROR\")\n",
    "\n",
    "# Cria o contexto do streaming utilizando o contexto do spark com intervalo de 3 segundos\n",
    "ssc = StreamingContext(sc, 3)\n",
    "\n",
    "# Setando o checkpoint para permitir a recuperação do RDD\n",
    "ssc.checkpoint(\"checkpoint_TwitterApp\")\n",
    "\n",
    "# Lendo dados da porta 9009\n",
    "dataStream = ssc.socketTextStream(\"localhost\", 9009)"
   ]
  },
  {
   "cell_type": "markdown",
   "metadata": {},
   "source": [
    "## [DEFINITION] Métodos para tratamento dos dados com o Spark"
   ]
  },
  {
   "cell_type": "code",
   "execution_count": null,
   "metadata": {},
   "outputs": [],
   "source": [
    "import pandas as pd\n",
    "import json\n",
    "import requests\n",
    "\n",
    "# Obtem o contexto SQL do spark (Utilizado na criação do dataframe em send_to_mongo)\n",
    "def get_sql_context_instance(spark_context):\n",
    "    if ('sqlContextSingletonInstance' not in globals()):\n",
    "        globals()['sqlContextSingletonInstance'] = SQLContext(spark_context)\n",
    "    return globals()['sqlContextSingletonInstance']\n",
    "\n",
    "# Filtra somente as hashtags em uma lista de palavras\n",
    "def get_hashtags(words):\n",
    "    return set(w[1:] for w in words.split() if w.startswith('#'))\n",
    "\n",
    "# Faz um post na API com os dados da hashtag para atualização e obtem a resposta\n",
    "def send_to_mongo(j):\n",
    "    response = requests.post(url = \"http://localhost:5001/v1/twits\", json = j, headers={'Content-Type': 'application/json'})\n",
    "    return response.text\n",
    "\n",
    "# Printa as respostas \n",
    "def print_responses(r):\n",
    "    print(r)\n",
    "\n",
    "# Transforma cada rdd em um json válido para requisição na API\n",
    "def transform_rdd(rdd):    \n",
    "    try:\n",
    "        if not (rdd.isEmpty()):\n",
    "            print(\"RDD Recebido!\")\n",
    "            \n",
    "            responses = []\n",
    "            sql_context = get_sql_context_instance(rdd.context)\n",
    "            \n",
    "            rdd_row = rdd.map(lambda x: Row(hashtag = x[0], hashtag_count = x[1]))\n",
    "            rdd.unpersist()\n",
    "            \n",
    "            jsons = sql_context.createDataFrame(rdd_row).toJSON()\n",
    "            rdd_row.unpersist()\n",
    "            \n",
    "            print(\"Enviando para a API mongo: \")\n",
    "            responses = jsons.map(lambda x: send_to_mongo(x))\n",
    "            jsons.unpersist()\n",
    "            \n",
    "            print(\"Imprimindo as respostas: \" + str(responses.count()))\n",
    "            for x in responses.collect():\n",
    "                print_responses(x)\n",
    "            \n",
    "        else:\n",
    "            #Significa que tratou um tweet que não continha hashtags\n",
    "            print(\"RDD vazio!\")\n",
    "    except Exception as ex:\n",
    "        print(\"send_to_mongo Error: %s\" % ex)"
   ]
  },
  {
   "cell_type": "markdown",
   "metadata": {},
   "source": [
    "## [TRANSFORMATION] Tratamento dos tweets"
   ]
  },
  {
   "cell_type": "code",
   "execution_count": null,
   "metadata": {},
   "outputs": [],
   "source": [
    "# Quebrando cada tweet em palavras\n",
    "words = dataStream.flatMap(lambda line: line.split(\" \"))\n",
    "\n",
    "# Filtra as palavras para obter apenas as hashtags, então agrupa as hashtags e suas quantidades (count())\n",
    "hashtags = words.filter(get_hashtags).countByValue()\n",
    "\n",
    "# Transformando os totais de cada tag em formato json válido para enviar as requisições\n",
    "hashtags.foreachRDD(transform_rdd)\n",
    "\n",
    "# Startando a computação do streaming\n",
    "ssc.start()\n",
    "\n",
    "# Esperando a finalização do straming\n",
    "ssc.awaitTermination()"
   ]
  }
 ],
 "metadata": {
  "kernelspec": {
   "display_name": "Python 3",
   "language": "python",
   "name": "python3"
  },
  "language_info": {
   "codemirror_mode": {
    "name": "ipython",
    "version": 3
   },
   "file_extension": ".py",
   "mimetype": "text/x-python",
   "name": "python",
   "nbconvert_exporter": "python",
   "pygments_lexer": "ipython3",
   "version": "3.7.2"
  }
 },
 "nbformat": 4,
 "nbformat_minor": 4
}
