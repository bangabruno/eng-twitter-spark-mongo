{
 "cells": [
  {
   "cell_type": "code",
   "execution_count": 2,
   "metadata": {},
   "outputs": [
    {
     "name": "stdout",
     "output_type": "stream",
     "text": [
      "No JVM listening\n"
     ]
    }
   ],
   "source": [
    "from py4j.java_gateway import JavaGateway, Py4JNetworkError\n",
    "try:\n",
    "    java_gateway = JavaGateway(eager_load=True)    \n",
    "    print(\"JVM accepting connection\")\n",
    "except Py4JNetworkError:\n",
    "    print(\"No JVM listening\")\n",
    "except Exception:\n",
    "    print(\"Another type of problem... maybe with the JVM\")"
   ]
  }
 ],
 "metadata": {
  "kernelspec": {
   "display_name": "Python 3",
   "language": "python",
   "name": "python3"
  },
  "language_info": {
   "codemirror_mode": {
    "name": "ipython",
    "version": 3
   },
   "file_extension": ".py",
   "mimetype": "text/x-python",
   "name": "python",
   "nbconvert_exporter": "python",
   "pygments_lexer": "ipython3",
   "version": "3.7.2"
  }
 },
 "nbformat": 4,
 "nbformat_minor": 4
}
