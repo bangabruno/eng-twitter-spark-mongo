{
 "cells": [
  {
   "cell_type": "markdown",
   "metadata": {},
   "source": [
    "## Definição da API que irá receber as requisições"
   ]
  },
  {
   "cell_type": "code",
   "execution_count": null,
   "metadata": {},
   "outputs": [
    {
     "name": "stdout",
     "output_type": "stream",
     "text": [
      "[Após subir a API, iniciar o socket e contexto spark em: 02_socket_twitter]\n",
      " * Serving Flask app \"__main__\" (lazy loading)\n",
      " * Environment: production\n",
      "   WARNING: This is a development server. Do not use it in a production deployment.\n",
      "   Use a production WSGI server instead.\n",
      " * Debug mode: off\n"
     ]
    },
    {
     "name": "stderr",
     "output_type": "stream",
     "text": [
      " * Running on http://localhost:5001/ (Press CTRL+C to quit)\n"
     ]
    }
   ],
   "source": [
    "from flask import Flask, jsonify, request, Response\n",
    "from flask import render_template\n",
    "from pymongo import MongoClient\n",
    "import ast\n",
    "from pprintpp import pprint\n",
    "import json\n",
    "from bson import json_util\n",
    "\n",
    "app = Flask(__name__)\n",
    "app.config['JSON_AS_ASCII'] = False\n",
    "app.config['JSONIFY_PRETTYPRINT_REGULAR'] = True\n",
    "app.config['JSON_SORT_KEYS'] = False\n",
    "\n",
    "labels = []\n",
    "values = []\n",
    "\n",
    "# Define uma classe para utilização da conexão com o MongoDB\n",
    "class MongoDB:\n",
    "    \n",
    "    def __init__(self, dbname):\n",
    "        self._conn = MongoClient(\"localhost\", 27017)\n",
    "        self._db   = self._conn['twitter']\n",
    "\n",
    "    def getCollection(self, name=\"hashtags\"):\n",
    "        return self._db[name]\n",
    "    \n",
    "@app.route('/v1/twits', methods=['GET'])\n",
    "def get_all():\n",
    "    \n",
    "    try:\n",
    "        mongo = MongoDB(\"twitter\")\n",
    "        coll_hashtags = mongo.getCollection().find({})\n",
    "        \n",
    "        if coll_hashtags.count() == 0:\n",
    "            return get_response(404, \"Hashtags não encontradas!\", \"{}\")\n",
    "        \n",
    "        return get_response(200, \"Sucesso!\", coll_hashtags)\n",
    "    except Exception as ex:\n",
    "        print(\"Error: %s\" % ex)\n",
    "        return get_response(500, ex, \"{}\")\n",
    "    \n",
    "@app.route('/v1/twits/<string:hashtag>', methods=['GET'])\n",
    "def get_one(hashtag):\n",
    "    \n",
    "    try:\n",
    "        mongo = MongoDB(\"twitter\")\n",
    "        coll_hashtags = mongo.getCollection().find({\"hashtag\": hashtag}).limit(1)\n",
    "        \n",
    "        if coll_hashtags.count() == 0:\n",
    "            return get_response(404, \"Hashtag não encontrada!\", \"{}\")\n",
    "        \n",
    "        return get_response(200, \"Sucesso!\", coll_hashtags)\n",
    "    except Exception as ex:\n",
    "        print(\"Error: %s\" % ex)\n",
    "        return get_response(500, ex, \"{}\")\n",
    "\n",
    "\n",
    "@app.route('/v1/twits', methods=['POST'])\n",
    "def post(_upsert = True):\n",
    "    \n",
    "    if not request.json or not 'hashtag' in request.json:\n",
    "        return get_response(400, \"Bad Request!\", \"{}\")\n",
    "    \n",
    "    try:\n",
    "        mongo = MongoDB(\"twitter\")\n",
    "        upsertResult = mongo.getCollection().update_one(\n",
    "                        {'hashtag': request.json['hashtag'] }, \n",
    "                        { \"$inc\": { \"hashtag_count\": request.json['hashtag_count'] } },\n",
    "                          upsert = _upsert\n",
    "                       )\n",
    "        print(\"UpdatedId: \" + upsertResult.upserted_id)\n",
    "        if upsertResult.upserted_id == 0:\n",
    "            return get_response(200, \"Hashtag atualizada com sucesso!\", upsertResult.raw_result)\n",
    "        else:\n",
    "            return get_response(201, \"Hashtag inserida com sucesso!\", upsertResult.raw_result)\n",
    "        \n",
    "    except Exception as ex:\n",
    "        print(\"Error: %s\" % ex)\n",
    "        return get_response(500, ex, \"{}\")\n",
    "    \n",
    "def get_response(_http, _msg, _data):\n",
    "    return jsonify(http = _http, msg = _msg, data = json.loads(json_util.dumps(_data).encode(\"utf-8\")))\n",
    "\n",
    "\n",
    "if __name__ == \"__main__\":\n",
    "    print(\"[Após subir a API, iniciar o socket e contexto spark em: 02_socket_twitter]\")\n",
    "    app.run(host = 'localhost', port = 5001)"
   ]
  }
 ],
 "metadata": {
  "kernelspec": {
   "display_name": "Python 3",
   "language": "python",
   "name": "python3"
  },
  "language_info": {
   "codemirror_mode": {
    "name": "ipython",
    "version": 3
   },
   "file_extension": ".py",
   "mimetype": "text/x-python",
   "name": "python",
   "nbconvert_exporter": "python",
   "pygments_lexer": "ipython3",
   "version": "3.7.2"
  }
 },
 "nbformat": 4,
 "nbformat_minor": 4
}
