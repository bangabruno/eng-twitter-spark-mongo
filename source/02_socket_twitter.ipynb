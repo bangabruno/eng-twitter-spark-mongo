{
 "cells": [
  {
   "cell_type": "markdown",
   "metadata": {},
   "source": [
    "## Construindo a API do Twitter (HTTP Client)"
   ]
  },
  {
   "cell_type": "code",
   "execution_count": null,
   "metadata": {},
   "outputs": [],
   "source": [
    "import sys\n",
    "import requests\n",
    "import requests_oauthlib\n",
    "import json\n",
    "import tweepy\n",
    "from datetime import date, timedelta\n",
    "\n",
    "# Substitua os valores com as chaves da sua API criada em https://developer.twitter.com/en/apps\n",
    "c_key = ''\n",
    "c_secret = ''\n",
    "a_token = ''\n",
    "a_secret = ''\n",
    "\n",
    "last_month = date.today() - timedelta(days=30)\n",
    "\n",
    "#conectando na API\n",
    "auth = tweepy.OAuthHandler(c_key, c_secret)\n",
    "auth.set_access_token(a_token, a_secret)\n",
    "api = tweepy.API(auth)\n",
    "\n",
    "def get_tweets_by_words(words):\n",
    "    return tweepy.Cursor(api.search,\n",
    "                         q = words,\n",
    "                         since = last_month.strftime('%Y-%m-%d'),\n",
    "                         until = date.today().strftime('%Y-%m-%d'),\n",
    "                         include_entities = True,\n",
    "                         lang=\"pt\").items()\n",
    "\n",
    "# Envia os tweets para o Spark\n",
    "def send_tweets_to_spark(tweets, tcp_connection):\n",
    "    for line in tweets:\n",
    "        try:\n",
    "            print(line._json)\n",
    "            full_tweet = line._json\n",
    "            tweet_text = full_tweet['text']\n",
    "            #print(\"Tweet Text: \" + tweet_text)\n",
    "            print (\"------------------------------------------\")\n",
    "            tcp_connection.send(bytes(tweet_text + '\\n', 'utf-8'))\n",
    "        except Exception as ex:\n",
    "            ex = sys.exc_info()[0]\n",
    "            print(\"Error enviando os tweetes para o Spark: %s\" % ex)"
   ]
  },
  {
   "cell_type": "markdown",
   "metadata": {},
   "source": [
    "## Configura e inicia o listener para obter os tweets"
   ]
  },
  {
   "cell_type": "code",
   "execution_count": null,
   "metadata": {},
   "outputs": [],
   "source": [
    "import socket\n",
    "\n",
    "_ip = \"localhost\"\n",
    "_port = 9009\n",
    "conn = None\n",
    "\n",
    "s = socket.socket(socket.AF_INET, socket.SOCK_STREAM)\n",
    "\n",
    "s.bind((_ip, _port))\n",
    "s.listen(1)\n",
    "print(\"Conexão iniciada!\")\n",
    "print(\"Aguardando requisições...\")\n",
    "print(\"[Iniciar os serviços em 03_job_spark]\")\n",
    "conn, addr = s.accept()\n",
    "print(\"Requisição recebida!\")\n",
    "\n",
    "print(\"Obtendo tweets...\")\n",
    "#tweets = get_tweets()\n",
    "tweets = get_tweets_by_words([\"chelsea\"])\n",
    "\n",
    "print(\"...\")\n",
    "print(\"Enviando tweets para o Spark...\")\n",
    "send_tweets_to_spark(tweets, conn)"
   ]
  },
  {
   "cell_type": "code",
   "execution_count": null,
   "metadata": {},
   "outputs": [],
   "source": []
  }
 ],
 "metadata": {
  "kernelspec": {
   "display_name": "Python 3",
   "language": "python",
   "name": "python3"
  },
  "language_info": {
   "codemirror_mode": {
    "name": "ipython",
    "version": 3
   },
   "file_extension": ".py",
   "mimetype": "text/x-python",
   "name": "python",
   "nbconvert_exporter": "python",
   "pygments_lexer": "ipython3",
   "version": "3.7.2"
  }
 },
 "nbformat": 4,
 "nbformat_minor": 4
}
